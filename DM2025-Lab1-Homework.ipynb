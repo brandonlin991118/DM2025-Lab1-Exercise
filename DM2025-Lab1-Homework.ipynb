{
 "cells": [
  {
   "cell_type": "markdown",
   "metadata": {},
   "source": [
    "### Student Information\n",
    "Name:林彥寬\n",
    "\n",
    "Student ID:114232505\n",
    "\n",
    "GitHub ID:brandonlin991118"
   ]
  },
  {
   "cell_type": "markdown",
   "metadata": {},
   "source": [
    "---"
   ]
  },
  {
   "cell_type": "markdown",
   "metadata": {},
   "source": [
    "### Instructions"
   ]
  },
  {
   "cell_type": "markdown",
   "metadata": {},
   "source": [
    "### First Phase Submission"
   ]
  },
  {
   "cell_type": "markdown",
   "metadata": {},
   "source": [
    "1. First: do the **take home** exercises in the [DM2025-Lab1-Master](https://github.com/leoson-wu/DM2025-Lab1-Exercise/blob/main/DM2025-Lab1-Master.ipynb) that considered as **phase 1 (from exercise 1 to exercise 15)**. You can answer in the master file. __This part is worth 10% of your grade.__\n",
    "\n",
    "\n",
    "2. Second: follow the same process from the [DM2025-Lab1-Master](https://github.com/leoson-wu/DM2025-Lab1-Exercise/blob/main/DM2025-Lab1-Master.ipynb) on **the new dataset** up **until phase 1**. You can skip some exercises if you think some steps are not necessary. However main exercises should be completed. You don't need to explain all details as we did (some **minimal comments** explaining your code are useful though).  __This part is worth 15% of your grade.__\n",
    "    -  Use [the new dataset](https://github.com/leoson-wu/DM2025-Lab1-Exercise/blob/main/newdataset/Reddit-stock-sentiment.csv). The dataset contains a 16 columns including 'text' and 'label', with the sentiment labels being: 1.0 is positive, 0.0 is neutral and -1.0 is negative. You can simplify the dataset and use only the columns that you think are necessary. \n",
    "    \n",
    "    - You are allowed to use and modify the `helper` functions in the folder of the first lab session (notice they may need modification) or create your own.\n",
    "    - Use this file to complete the homework from the second part. Make sure the code can be run from the beginning till the end and has all the needed output.\n",
    "\n",
    "\n",
    "3. Third: please attempt the following tasks on **the new dataset**. __This part is worth 10% of your grade.__\n",
    "    - Generate meaningful **new data visualizations**. Refer to online resources and the Data Mining textbook for inspiration and ideas. \n",
    "    \n",
    "\n",
    "\n",
    "4. Fourth: It's hard for us to follow if your code is messy, so please **tidy up your notebook** and **add minimal comments where needed**. __This part is worth 5% of your grade.__\n",
    "\n",
    "You can submit your homework following these guidelines: [DM2025-Lab1-announcement](https://github.com/leoson-wu/DM2025-Lab1-Announcement/blob/main/README.md). Make sure to commit and save your changes to your repository __BEFORE the deadline (September 28th 11:59 pm, Sunday)__. "
   ]
  },
  {
   "cell_type": "markdown",
   "metadata": {},
   "source": [
    "### Second Phase Submission "
   ]
  },
  {
   "cell_type": "markdown",
   "metadata": {},
   "source": [
    "**You can keep the answer for phase 1 for easier running and update the phase 2 on the same page.**\n",
    "\n",
    "1. First: Continue doing the **take home** exercises in the [DM2025-Lab1-Master](https://github.com/leoson-wu/DM2025-Lab1-Exercise/blob/main/DM2025-Lab1-Master.ipynb) for **phase 2, starting from Finding frequent patterns**. Use the same master(.ipynb) file. Answer from phase 1 will not be considered at this stage. You can answer in the master file. __This part is worth 10% of your grade.__\n",
    "\n",
    "\n",
    "2. Second: Continue from first phase and do the same process from the [DM2025-Lab1-Master](https://github.com/leoson-wu/DM2025-Lab1-Exercise/blob/main/DM2025-Lab1-Master.ipynb) on **the new dataset** for phase 2, starting from Finding frequent pattern. You can skip some exercises if you think some steps are not necessary. However main exercises should be completed. You don't need to explain all details as we did (some **minimal comments** explaining your code are useful though).  __This part is worth 15% of your grade.__\n",
    "    - Continue using this file to complete the homework from the second part. Make sure the code can be run from the beginning till the end and has all the needed output. Use the same new dataset as in phase 1.\n",
    "    \n",
    "    - You are allowed to use and modify the `helper` functions in the folder of the first lab session (notice they may need modification) or create your own.\n",
    "\n",
    "3. Third: please attempt the following tasks on **the new dataset**. __This part is worth 20% of your grade.__\n",
    "    - Use this file to answer.\n",
    "    - Generate **TF-IDF features** from the tokens of each text. This will generating a document matrix, however, the weights will be computed differently (using the TF-IDF value of each word per document as opposed to the word frequency).  Refer to this Scikit-learn [guide](http://scikit-learn.org/stable/modules/generated/sklearn.feature_extraction.text.TfidfVectorizer.html) .\n",
    "    - Implement a simple **Naive Bayes classifier** that automatically classifies the records into their categories. Use both the TF-IDF features and word frequency features to build two seperate classifiers. Note that for the TF-IDF features you might need to use other type of NB classifier different than the one in the Master Notebook. Comment on the differences and when using augmentation with feature pattern.  Refer to this [article](https://hub.packtpub.com/implementing-3-naive-bayes-classifiers-in-scikit-learn/).\n",
    "\n",
    "\n",
    "4. Fourth: In the lab, we applied each step really quickly just to illustrate how to work with your dataset. There are somethings that are not ideal or the most efficient/meaningful. Each dataset can be handled differently as well. What are those inefficent parts you noticed? How can you improve the Data preprocessing for these specific datasets? __This part is worth 10% of your grade.__\n",
    "\n",
    "\n",
    "5. Fifth: It's hard for us to follow if your code is messy, so please **tidy up your notebook** and **add minimal comments where needed**. __This part is worth 5% of your grade.__\n",
    "\n",
    "\n",
    "You can submit your homework following these guidelines: [DM2025-Lab1-announcement](https://github.com/leoson-wu/DM2025-Lab1-Announcement/blob/main/README.md). Make sure to commit and save your changes to your repository __BEFORE the deadline (October 19th 11:59 pm, Sunday)__. "
   ]
  },
  {
   "cell_type": "markdown",
   "metadata": {},
   "source": [
    "# Phase 1"
   ]
  },
  {
   "cell_type": "code",
   "execution_count": 1,
   "metadata": {},
   "outputs": [],
   "source": [
    "### Begin Assignment Here\n",
    "# Phase 1 (NEW dataset) — Setup\n",
    "import pandas as pd\n",
    "import numpy as np\n",
    "import matplotlib.pyplot as plt\n",
    "from pathlib import Path\n",
    "\n",
    "pd.set_option(\"display.max_colwidth\", 140)\n",
    "pd.set_option(\"display.max_rows\", 30)\n"
   ]
  },
  {
   "cell_type": "code",
   "execution_count": 2,
   "metadata": {},
   "outputs": [
    {
     "data": {
      "text/plain": [
       "(      type             datetime  post_id       subreddit  \\\n",
       " 0  comment  2025-04-11 17:29:56  mmli62w  wallstreetbets   \n",
       " 1  comment   2025-04-12 1:12:19  mmnu7v9  wallstreetbets   \n",
       " 2  comment  2025-04-10 15:09:41  mmeevio     StockMarket   \n",
       " \n",
       "                                                                                                                                     title  \\\n",
       " 0                                                                                         Retardation is on the menu boys! WSB is so back   \n",
       " 1                                     Retail giant TARGET has now declined for 10 consecutive weeks, its longest losing streak in history   \n",
       " 2  How do you feel about a sitting president making $415M in one day after pumping his own stock with social media and a policy decision?   \n",
       " \n",
       "                  author  \\\n",
       " 0          StickyTip420   \n",
       " 1  Comfortable-Dog-8437   \n",
       " 2          Btankersly66   \n",
       " \n",
       "                                                                                                            url  \\\n",
       " 0                                                                         https://i.redd.it/0yq2ftren8ue1.jpeg   \n",
       " 1                                                                         https://i.redd.it/7tl6puv9waue1.jpeg   \n",
       " 2  https://apnews.com/article/trump-truth-social-djt-tesla-musk-tariffs-pause-fccfa6b06c8f1ec0cd7844641ca52669   \n",
       " \n",
       "    upvotes  downvotes  upvote_ratio  \\\n",
       " 0        0        NaN           NaN   \n",
       " 1      -15        NaN           NaN   \n",
       " 2        1        NaN           NaN   \n",
       " \n",
       "                                                                                                                                         text  \\\n",
       " 0                                                                                                                           Calls on retards   \n",
       " 1  Stunt as in like why did they even make a big deal about starting it in the first place? No company should ever talk about politics ever.   \n",
       " 2                                                                                                          Seeing lots of red in the ticker.   \n",
       " \n",
       "    subjectivity  polarity  sentiment                               entities  \\\n",
       " 0      1.000000 -0.900000       -1.0                                     []   \n",
       " 1      0.177778  0.083333        1.0  ['Stunt', 'company', 'deal', 'place']   \n",
       " 2      0.000000  0.000000        0.0                             ['ticker']   \n",
       " \n",
       "    label  \n",
       " 0   -1.0  \n",
       " 1    0.0  \n",
       " 2    0.0  ,\n",
       " ['type',\n",
       "  'datetime',\n",
       "  'post_id',\n",
       "  'subreddit',\n",
       "  'title',\n",
       "  'author',\n",
       "  'url',\n",
       "  'upvotes',\n",
       "  'downvotes',\n",
       "  'upvote_ratio',\n",
       "  'text',\n",
       "  'subjectivity',\n",
       "  'polarity',\n",
       "  'sentiment',\n",
       "  'entities',\n",
       "  'label'])"
      ]
     },
     "execution_count": 2,
     "metadata": {},
     "output_type": "execute_result"
    }
   ],
   "source": [
    "# Load CSV (adjust path if yours differs)\n",
    "DATA_PATH = Path(\"newdataset\") / \"Reddit-stock-sentiment.csv\"\n",
    "assert DATA_PATH.exists(), f\"Can't find file: {DATA_PATH.resolve()}\"\n",
    "\n",
    "df_raw = pd.read_csv(DATA_PATH)\n",
    "df_raw.head(3), list(df_raw.columns)\n"
   ]
  },
  {
   "cell_type": "code",
   "execution_count": 3,
   "metadata": {},
   "outputs": [
    {
     "data": {
      "text/plain": [
       "(822,\n",
       "                                                                                                                                         text  \\\n",
       " 0                                                                                                                           Calls on retards   \n",
       " 1  Stunt as in like why did they even make a big deal about starting it in the first place? No company should ever talk about politics ever.   \n",
       " 2                                                                                                          Seeing lots of red in the ticker.   \n",
       " \n",
       "    label  category category_name  \n",
       " 0   -1.0      -1.0           neg  \n",
       " 1    0.0       0.0           neu  \n",
       " 2    0.0       0.0           neu  )"
      ]
     },
     "execution_count": 3,
     "metadata": {},
     "output_type": "execute_result"
    }
   ],
   "source": [
    "# Pick best candidate columns for text/label (robust to naming)\n",
    "def pick(colnames, *candidates):\n",
    "    low = {c.lower(): c for c in colnames}\n",
    "    for c in candidates:\n",
    "        if c.lower() in low:\n",
    "            return low[c.lower()]\n",
    "    return None\n",
    "\n",
    "text_col  = pick(df_raw.columns, \"text\", \"body\", \"content\", \"selftext\", \"title\", \"message\")\n",
    "label_col = pick(df_raw.columns, \"label\", \"sentiment\", \"target\", \"polarity\", \"y\")\n",
    "if text_col is None or label_col is None:\n",
    "    raise ValueError(f\"Could not locate text/label columns in {list(df_raw.columns)}\")\n",
    "\n",
    "X = df_raw[[text_col, label_col]].rename(columns={text_col:\"text\", label_col:\"label\"}).copy()\n",
    "\n",
    "# Basic cleaning\n",
    "X[\"text\"] = X[\"text\"].astype(str).str.strip()\n",
    "X = X.replace({\"text\": {\"\": np.nan, \"nan\": np.nan}})\n",
    "X = X.dropna(subset=[\"text\", \"label\"]).copy()\n",
    "\n",
    "# Normalize labels to {-1, 0, 1}\n",
    "label_map = {\n",
    "    \"negative\": -1.0, \"neg\": -1.0, -1: -1.0, \"-1\": -1.0,\n",
    "    \"neutral\":  0.0,  \"neu\":  0.0,   0:  0.0,  \"0\":  0.0,\n",
    "    \"positive\":  1.0, \"pos\":  1.0,   1:  1.0,  \"1\":  1.0,\n",
    "}\n",
    "def to_label(v):\n",
    "    if pd.isna(v): return np.nan\n",
    "    s = str(v).strip().lower()\n",
    "    return label_map.get(v, label_map.get(s, np.nan))\n",
    "\n",
    "X[\"category\"] = X[\"label\"].apply(to_label)\n",
    "X = X.dropna(subset=[\"category\"]).copy()\n",
    "X[\"category\"] = X[\"category\"].astype(float)\n",
    "\n",
    "name_map = {1.0: \"pos\", 0.0: \"neu\", -1.0: \"neg\"}\n",
    "X[\"category_name\"] = X[\"category\"].map(name_map)\n",
    "\n",
    "# (Optional) dedupe & short texts removal\n",
    "X = X[X[\"text\"].str.len() > 3].drop_duplicates(subset=[\"text\",\"label\"]).reset_index(drop=True)\n",
    "\n",
    "len(X), X.head(3)\n"
   ]
  },
  {
   "cell_type": "code",
   "execution_count": 5,
   "metadata": {},
   "outputs": [
    {
     "name": "stderr",
     "output_type": "stream",
     "text": [
      "C:\\Users\\Brandon\\AppData\\Local\\Temp\\ipykernel_45944\\2506623322.py:16: FutureWarning: DataFrameGroupBy.apply operated on the grouping columns. This behavior is deprecated, and in a future version of pandas the grouping columns will be excluded from the operation. Either pass `include_groups=False` to exclude the groupings or explicitly select the grouping columns after groupby to silence this warning.\n",
      "  .apply(lambda g: g.sample(1, random_state=42))[[\"text\",\"category_name\"]]\n"
     ]
    },
    {
     "data": {
      "text/html": [
       "<div>\n",
       "<style scoped>\n",
       "    .dataframe tbody tr th:only-of-type {\n",
       "        vertical-align: middle;\n",
       "    }\n",
       "\n",
       "    .dataframe tbody tr th {\n",
       "        vertical-align: top;\n",
       "    }\n",
       "\n",
       "    .dataframe thead th {\n",
       "        text-align: right;\n",
       "    }\n",
       "</style>\n",
       "<table border=\"1\" class=\"dataframe\">\n",
       "  <thead>\n",
       "    <tr style=\"text-align: right;\">\n",
       "      <th></th>\n",
       "      <th>text</th>\n",
       "      <th>category_name</th>\n",
       "    </tr>\n",
       "  </thead>\n",
       "  <tbody>\n",
       "    <tr>\n",
       "      <th>530</th>\n",
       "      <td>China has been preparing for this and this administration lies, is terrible at negotiating, and cannot be trusted with an so-called *dea...</td>\n",
       "      <td>neg</td>\n",
       "    </tr>\n",
       "    <tr>\n",
       "      <th>401</th>\n",
       "      <td>Yes!!!</td>\n",
       "      <td>neu</td>\n",
       "    </tr>\n",
       "    <tr>\n",
       "      <th>644</th>\n",
       "      <td>Nah he's pretty spot on. Trump supporters are hated globally</td>\n",
       "      <td>pos</td>\n",
       "    </tr>\n",
       "  </tbody>\n",
       "</table>\n",
       "</div>"
      ],
      "text/plain": [
       "                                                                                                                                            text  \\\n",
       "530  China has been preparing for this and this administration lies, is terrible at negotiating, and cannot be trusted with an so-called *dea...   \n",
       "401                                                                                                                                       Yes!!!   \n",
       "644                                                                                 Nah he's pretty spot on. Trump supporters are hated globally   \n",
       "\n",
       "    category_name  \n",
       "530           neg  \n",
       "401           neu  \n",
       "644           pos  "
      ]
     },
     "execution_count": 5,
     "metadata": {},
     "output_type": "execute_result"
    }
   ],
   "source": [
    "# First 10 records: keep only text and label name\n",
    "X.loc[:9, [\"text\", \"category_name\"]]\n",
    "# Last 10 records by position\n",
    "X.iloc[-10:, :][[\"text\", \"category_name\"]]\n",
    "# Keep a couple of categories and show 10\n",
    "cats = [\"pos\", \"neg\"]              # change as you wish\n",
    "X.query(\"category_name in @cats\")[[\"text\",\"category_name\"]].head(10)\n",
    "# Keyword search (case-insensitive); tweak the regex to taste\n",
    "mask = X[\"text\"].str.contains(r\"\\bstock|buy|sell|price\\b\", case=False, na=False)\n",
    "X.loc[mask, [\"text\",\"category_name\"]].head(10)\n",
    "# Longest posts overall (by token count) — show top 5\n",
    "X = X.assign(n_tokens = X[\"text\"].str.split().str.len())\n",
    "X.nlargest(5, \"n_tokens\")[[\"text\",\"category_name\",\"n_tokens\"]]\n",
    "# One sampled record per class (quick inspection)\n",
    "X.groupby(\"category_name\", group_keys=False)\\\n",
    " .apply(lambda g: g.sample(1, random_state=42))[[\"text\",\"category_name\"]]\n",
    "\n",
    "\n",
    "\n",
    "\n"
   ]
  },
  {
   "cell_type": "code",
   "execution_count": 6,
   "metadata": {},
   "outputs": [
    {
     "data": {
      "image/png": "[encoded data removed]",
      "text/plain": [
       "<Figure size 640x480 with 1 Axes>"
      ]
     },
     "metadata": {},
     "output_type": "display_data"
    },
    {
     "data": {
      "image/png": "[encoded data removed]",
      "text/plain": [
       "<Figure size 640x480 with 1 Axes>"
      ]
     },
     "metadata": {},
     "output_type": "display_data"
    }
   ],
   "source": [
    "# Class distribution\n",
    "ax = (X[\"category_name\"].value_counts()\n",
    "        .reindex([\"pos\",\"neu\",\"neg\"])\n",
    "        .fillna(0)\n",
    "        .plot(kind=\"bar\", rot=0, title=\"Class distribution (new dataset)\"))\n",
    "ax.set_ylabel(\"count\")\n",
    "plt.show()\n",
    "# Token length distribution (clip extreme tail for readability)\n",
    "ax = X[\"n_tokens\"].clip(upper=X[\"n_tokens\"].quantile(0.99))\\\n",
    "       .plot(kind=\"hist\", bins=40, title=\"Token length distribution (99th pct clipped)\")\n",
    "ax.set_xlabel(\"# tokens\")\n",
    "plt.show()\n",
    "\n"
   ]
  },
  {
   "cell_type": "code",
   "execution_count": 8,
   "metadata": {},
   "outputs": [
    {
     "data": {
      "text/html": [
       "<div>\n",
       "<style scoped>\n",
       "    .dataframe tbody tr th:only-of-type {\n",
       "        vertical-align: middle;\n",
       "    }\n",
       "\n",
       "    .dataframe tbody tr th {\n",
       "        vertical-align: top;\n",
       "    }\n",
       "\n",
       "    .dataframe thead th {\n",
       "        text-align: right;\n",
       "    }\n",
       "</style>\n",
       "<table border=\"1\" class=\"dataframe\">\n",
       "  <thead>\n",
       "    <tr style=\"text-align: right;\">\n",
       "      <th></th>\n",
       "      <th>duplicates_total</th>\n",
       "      <th>duplicate_text_only</th>\n",
       "    </tr>\n",
       "  </thead>\n",
       "  <tbody>\n",
       "    <tr>\n",
       "      <th>0</th>\n",
       "      <td>0</td>\n",
       "      <td>0</td>\n",
       "    </tr>\n",
       "  </tbody>\n",
       "</table>\n",
       "</div>"
      ],
      "text/plain": [
       "   duplicates_total  duplicate_text_only\n",
       "0                 0                    0"
      ]
     },
     "execution_count": 8,
     "metadata": {},
     "output_type": "execute_result"
    }
   ],
   "source": [
    "# Missing values per row (should usually be zeros after cleaning)\n",
    "X.isnull().sum(axis=1).value_counts()\n",
    "# Duplicates\n",
    "pd.DataFrame({\n",
    "    \"duplicates_total\":[int(X.duplicated().sum())],\n",
    "    \"duplicate_text_only\":[int(X.duplicated(subset=['text']).sum())]\n",
    "})\n"
   ]
  },
  {
   "cell_type": "code",
   "execution_count": null,
   "metadata": {},
   "outputs": [],
   "source": []
  },
  {
   "cell_type": "code",
   "execution_count": null,
   "metadata": {},
   "outputs": [],
   "source": []
  },
  {
   "cell_type": "code",
   "execution_count": null,
   "metadata": {},
   "outputs": [],
   "source": []
  },
  {
   "cell_type": "code",
   "execution_count": null,
   "metadata": {},
   "outputs": [],
   "source": []
  },
  {
   "cell_type": "markdown",
   "metadata": {},
   "source": [
    "# Phase 2"
   ]
  },
  {
   "cell_type": "code",
   "execution_count": null,
   "metadata": {},
   "outputs": [],
   "source": [
    "### Begin Assignment Here"
   ]
  }
 ],
 "metadata": {
  "kernelspec": {
   "display_name": "DM2025-Lab1-Exercise",
   "language": "python",
   "name": "python3"
  },
  "language_info": {
   "codemirror_mode": {
    "name": "ipython",
    "version": 3
   },
   "file_extension": ".py",
   "mimetype": "text/x-python",
   "name": "python",
   "nbconvert_exporter": "python",
   "pygments_lexer": "ipython3",
   "version": "3.11.13"
  }
 },
 "nbformat": 4,
 "nbformat_minor": 4
}
